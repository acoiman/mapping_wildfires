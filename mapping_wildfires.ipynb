{
 "cells": [
  {
   "cell_type": "code",
   "execution_count": 1,
   "metadata": {},
   "outputs": [
    {
     "name": "stderr",
     "output_type": "stream",
     "text": [
      "/srv/conda/envs/notebook/lib/python3.7/site-packages/ipykernel_launcher.py:13: DeprecationWarning: Using Nominatim with the default \"geopy/1.22.0\" `user_agent` is strongly discouraged, as it violates Nominatim's ToS https://operations.osmfoundation.org/policies/nominatim/ and may possibly cause 403 and 429 HTTP errors. Please specify a custom `user_agent` with `Nominatim(user_agent=\"my-application\")` or by overriding the default `user_agent`: `geopy.geocoders.options.default_user_agent = \"my-application\"`. In geopy 2.0 this will become an exception.\n",
      "  del sys.path[0]\n"
     ]
    }
   ],
   "source": [
    "# import libraries\n",
    "import geopandas as gpd\n",
    "import ipywidgets as widgets\n",
    "from IPython.display import display\n",
    "#from IPython.display import Javascript\n",
    "\n",
    "import os\n",
    "import zipfile\n",
    "import requests\n",
    "import time\n",
    "\n",
    "from geopy.geocoders import Nominatim\n",
    "geolocator = Nominatim()\n",
    "\n",
    "import folium\n",
    "from folium.plugins import MarkerCluster\n",
    "from folium.plugins import FastMarkerCluster\n",
    "\n",
    "# custom modules\n",
    "import map_html\n",
    "import cal_zoom\n",
    "from cal_zoom import get_zoom_start\n",
    "\n",
    "import warnings\n",
    "warnings.filterwarnings('ignore')"
   ]
  },
  {
   "cell_type": "code",
   "execution_count": 2,
   "metadata": {},
   "outputs": [],
   "source": [
    "# load Natural Earth datasetand from continent select South America and country names\n",
    "world = gpd.read_file(gpd.datasets.get_path('naturalearth_lowres'))\n",
    "countries = world.loc[world['continent'] == 'South America', 'name'].sort_values()\n",
    "\n",
    "# uncomment this line if you want to select a country outside South America\n",
    "#countries =world['name'].sort_values()"
   ]
  },
  {
   "cell_type": "code",
   "execution_count": 3,
   "metadata": {},
   "outputs": [
    {
     "data": {
      "application/vnd.jupyter.widget-view+json": {
       "model_id": "863a5683311e410ea7f833fe73c60750",
       "version_major": 2,
       "version_minor": 0
      },
      "text/plain": [
       "Dropdown(index=12, options=('Argentina', 'Bolivia', 'Brazil', 'Chile', 'Colombia', 'Ecuador', 'Falkland Is.', …"
      ]
     },
     "metadata": {},
     "output_type": "display_data"
    }
   ],
   "source": [
    "# set up a Jupyter Notebbok dropdown widget to pick up a county of interest\n",
    "w = widgets.Dropdown(\n",
    "    options= countries,\n",
    "    value='Venezuela'\n",
    ")\n",
    "\n",
    "display(w)\n",
    "\n",
    "# Javascript('IPython.notebook.execute_cells_below()')\n",
    "\n",
    "# def run_all(ev):\n",
    "#     display(Javascript('IPython.notebook.execute_cell_range(IPython.notebook.get_selected_index()+1,\\\n",
    "#     IPython.notebook.ncells())'))\n",
    "\n",
    "# button = widgets.Button(description=\"Run All Cells \")\n",
    "# button.on_click(run_all)\n",
    "\n",
    "# display(button)"
   ]
  },
  {
   "cell_type": "code",
   "execution_count": 4,
   "metadata": {},
   "outputs": [
    {
     "data": {
      "text/plain": [
       "'Venezuela'"
      ]
     },
     "execution_count": 4,
     "metadata": {},
     "output_type": "execute_result"
    }
   ],
   "source": [
    "# visualize selected county name\n",
    "w.value"
   ]
  },
  {
   "cell_type": "code",
   "execution_count": 5,
   "metadata": {},
   "outputs": [],
   "source": [
    "# source: https://blog.goodaudience.com/geo-libraries-in-python-plotting-current-fires-bffef9fe3fb7\n",
    "# create a function to set up folder names according the current date and time\n",
    "def make_folder_name(localtime):\n",
    "    '''\n",
    "    this function will help us to set up folder names according to our current local date and time\n",
    "    '''\n",
    "    if localtime.tm_hour > 12:\n",
    "        string = str(localtime.tm_mon)+'_'+str(localtime.tm_mday)+'_'+\\\n",
    "        str(localtime.tm_hour-12)+'_'+str(localtime.tm_min)+'_pm'\n",
    "    else:\n",
    "        string =str(localtime.tm_mon)+'_'+str(localtime.tm_mday)+'_'+\\\n",
    "        str(localtime.tm_hour)+'_'+str(localtime.tm_min)+'_am'\n",
    "    return string"
   ]
  },
  {
   "cell_type": "code",
   "execution_count": 6,
   "metadata": {},
   "outputs": [],
   "source": [
    "# names of the datasets an their respective links\n",
    "names = ['24hrVIIRS375m ','48hrVIIRS375m ','7dVIIRS375m ']\n",
    "\n",
    "# uncomment this line if you want to download global VIIRS Active Fire \n",
    "# links = ['https://firms.modaps.eosdis.nasa.gov/data/active_fire/noaa-20-viirs-c2/shapes/zips/J1_VIIRS_C2_Global_24h.zip',\\\n",
    "#         'https://firms.modaps.eosdis.nasa.gov/data/active_fire/noaa-20-viirs-c2/shapes/zips/J1_VIIRS_C2_Global_48h.zip',\\\n",
    "#         'https://firms.modaps.eosdis.nasa.gov/data/active_fire/noaa-20-viirs-c2/shapes/zips/J1_VIIRS_C2_Global_7d.zip']\n",
    "\n",
    "\n",
    "# comment out this line if you want to download global VIIRS Active Fire \n",
    "# download link of current VIIRS Active Fires for South America\n",
    "links = ['https://firms.modaps.eosdis.nasa.gov/data/active_fire/noaa-20-viirs-c2/shapes/zips/J1_VIIRS_C2_South_America_24h.zip',\\\n",
    "        'https://firms.modaps.eosdis.nasa.gov/data/active_fire/noaa-20-viirs-c2/shapes/zips/J1_VIIRS_C2_South_America_48h.zip',\\\n",
    "        'https://firms.modaps.eosdis.nasa.gov/data/active_fire/noaa-20-viirs-c2/shapes/zips/J1_VIIRS_C2_South_America_7d.zip']"
   ]
  },
  {
   "cell_type": "code",
   "execution_count": 7,
   "metadata": {},
   "outputs": [],
   "source": [
    "# list to store folder names\n",
    "folder_names = []\n",
    "localtime = time.localtime(time.time())\n",
    "\n",
    "# save the data into the right spot\n",
    "for i, name_Link in enumerate(zip(names, links)):\n",
    "    # download the file content in binary format\n",
    "    r = requests.get(name_Link[1])\n",
    "    \n",
    "    # open method to open a file on your system and write the contents\n",
    "    with open(name_Link[0], \"wb\") as code:\n",
    "        code.write(r.content)\n",
    "        \n",
    "    # unzip the data\n",
    "    zip_ref = zipfile.ZipFile(name_Link[0], 'r')\n",
    "    name = make_folder_name(localtime)+'_'+name_Link[0]\n",
    "    folder_names.append(name)\n",
    "    zip_ref.extractall(name)\n",
    "    zip_ref.close()"
   ]
  },
  {
   "cell_type": "code",
   "execution_count": 8,
   "metadata": {},
   "outputs": [
    {
     "data": {
      "image/png": "[encoded data removed]",
      "text/plain": [
       "<Figure size 432x288 with 1 Axes>"
      ]
     },
     "metadata": {
      "needs_background": "light"
     },
     "output_type": "display_data"
    }
   ],
   "source": [
    "# visualize our study area (country)\n",
    "study_area = world[world['name'] == w.value]\n",
    "study_area.plot();"
   ]
  },
  {
   "cell_type": "code",
   "execution_count": 9,
   "metadata": {},
   "outputs": [],
   "source": [
    "dir_name_24h = folder_names[0]\n",
    "filename_24h = 'J1_VIIRS_C2_South_America_24h.shp'\n",
    "path_24h = os.path.join(dir_name_24h, filename_24h)"
   ]
  },
  {
   "cell_type": "code",
   "execution_count": 10,
   "metadata": {},
   "outputs": [],
   "source": [
    "dir_name_48h = folder_names[1]\n",
    "filename_48h = 'J1_VIIRS_C2_South_America_48h.shp'\n",
    "path_48h = os.path.join(dir_name_48h, filename_48h)"
   ]
  },
  {
   "cell_type": "code",
   "execution_count": 11,
   "metadata": {},
   "outputs": [],
   "source": [
    "dir_name_7d = folder_names[2]\n",
    "filename_7d = 'J1_VIIRS_C2_South_America_7d.shp'\n",
    "path_7d = os.path.join(dir_name_7d, filename_7d)"
   ]
  },
  {
   "cell_type": "code",
   "execution_count": 12,
   "metadata": {},
   "outputs": [],
   "source": [
    "def clip_data(path):\n",
    "    ptall = gpd.read_file(path)\n",
    "    \n",
    "    ptclip = gpd.clip(ptall, study_area)\n",
    "    \n",
    "    return ptclip"
   ]
  },
  {
   "cell_type": "code",
   "execution_count": 13,
   "metadata": {},
   "outputs": [],
   "source": [
    "pt24hclip = clip_data(path_24h)\n",
    "\n",
    "pt48hclip = clip_data(path_48h)\n",
    "\n",
    "pt7dclip = clip_data(path_7d)"
   ]
  },
  {
   "cell_type": "code",
   "execution_count": 14,
   "metadata": {},
   "outputs": [
    {
     "data": {
      "image/png": "[encoded data removed]",
      "text/plain": [
       "<Figure size 432x288 with 1 Axes>"
      ]
     },
     "metadata": {
      "needs_background": "light"
     },
     "output_type": "display_data"
    }
   ],
   "source": [
    "pt7dclip.plot();"
   ]
  },
  {
   "cell_type": "code",
   "execution_count": 15,
   "metadata": {},
   "outputs": [],
   "source": [
    "def get_locations(pts):\n",
    "    lats = pts['LATITUDE'].tolist()\n",
    "    \n",
    "    lons = pts['LONGITUDE'].tolist()\n",
    "    \n",
    "    locs = list(zip(lats, lons))\n",
    "    \n",
    "    return locs"
   ]
  },
  {
   "cell_type": "code",
   "execution_count": 16,
   "metadata": {},
   "outputs": [
    {
     "data": {
      "text/plain": [
       "Index(['LATITUDE', 'LONGITUDE', 'BRIGHT_TI4', 'SCAN', 'TRACK', 'ACQ_DATE',\n",
       "       'ACQ_TIME', 'SATELLITE', 'CONFIDENCE', 'VERSION', 'BRIGHT_TI5', 'FRP',\n",
       "       'DAYNIGHT', 'geometry'],\n",
       "      dtype='object')"
      ]
     },
     "execution_count": 16,
     "metadata": {},
     "output_type": "execute_result"
    }
   ],
   "source": [
    "pt7dclip.columns"
   ]
  },
  {
   "cell_type": "code",
   "execution_count": 17,
   "metadata": {},
   "outputs": [],
   "source": [
    "locations24h = get_locations(pt24hclip)\n",
    "\n",
    "locations48h = get_locations(pt48hclip)\n",
    "\n",
    "locations7d = get_locations(pt7dclip)"
   ]
  },
  {
   "cell_type": "code",
   "execution_count": 18,
   "metadata": {},
   "outputs": [],
   "source": [
    "def get_popup(df):\n",
    "    '''\n",
    "    Function to get map popup data\n",
    "    '''\n",
    "    \n",
    "    bt4 = df['BRIGHT_TI4'].tolist()\n",
    "    acd = df['ACQ_DATE'].tolist()\n",
    "    act = df['ACQ_TIME'].tolist()\n",
    "    con = df['CONFIDENCE'].tolist()\n",
    "    bt5 = df['BRIGHT_TI5'].tolist()\n",
    "    frp = df['FRP'].tolist()\n",
    "    dynt = df['DAYNIGHT']\n",
    "    \n",
    "    poplist = list(zip(bt4, acd, act, con, bt5, frp, dynt))\n",
    "    popup = ['Brightness temperature I-4 (Kelvin): {}<br>Acquisition Date: {}<br>Acquisition Time: {}\\\n",
    "    <br> Confidence: {}<br>Brightness temperature I-5 (Kelvin): {}<br>Fire Radiative Power (megawatts): {}\\\n",
    "    <br>Day(D) or Night(N): {}'\n",
    "             .format(b4, ad, at, co, b5, fr, dn) for (b4, ad, at, co, b5, fr, dn) in poplist]\n",
    "    return popup"
   ]
  },
  {
   "cell_type": "code",
   "execution_count": 19,
   "metadata": {},
   "outputs": [],
   "source": [
    "centx= study_area['geometry'].centroid.x.tolist()\n",
    "centy= study_area['geometry'].centroid.y.tolist()\n",
    "location = [*centy, *centx]"
   ]
  },
  {
   "cell_type": "code",
   "execution_count": 20,
   "metadata": {},
   "outputs": [
    {
     "data": {
      "text/plain": [
       "[7.162132267639002, -66.16382727830238]"
      ]
     },
     "execution_count": 20,
     "metadata": {},
     "output_type": "execute_result"
    }
   ],
   "source": [
    "location"
   ]
  },
  {
   "cell_type": "code",
   "execution_count": 21,
   "metadata": {},
   "outputs": [
    {
     "data": {
      "text/plain": [
       "[-73.30495154488005,\n",
       " 0.7244522159820121,\n",
       " -59.758284878159195,\n",
       " 12.162307033736099]"
      ]
     },
     "execution_count": 21,
     "metadata": {},
     "output_type": "execute_result"
    }
   ],
   "source": [
    "bboxsa = study_area.geometry.bounds.values.tolist()\n",
    "bbox = [item for sublist in bboxsa for item in sublist]\n",
    "bbox"
   ]
  },
  {
   "cell_type": "code",
   "execution_count": 22,
   "metadata": {},
   "outputs": [
    {
     "data": {
      "text/plain": [
       "<branca.element.Element at 0x7ff70588d290>"
      ]
     },
     "execution_count": 22,
     "metadata": {},
     "output_type": "execute_result"
    }
   ],
   "source": [
    "# map = folium.Map(location, zoom_start=6, tiles=False,control_scale=True)\n",
    "map = folium.Map(location, zoom_start=get_zoom_start(bbox), tiles=False,control_scale=True, prefer_canvas=True)\n",
    "\n",
    "\n",
    "#[6.569,-65.844]\n",
    "folium.TileLayer('CartoDB dark_matter', overlay=True).add_to(map)\n",
    "\n",
    "cluster24h = MarkerCluster(name='24hr VIIRS 375m', overlay=False).add_to(map)\n",
    "cluster48h = MarkerCluster(name='48hr VIIRS 375m', overlay=False).add_to(map)\n",
    "cluster7d = MarkerCluster(name='7d VIIRS 375m', overlay=False).add_to(map)\n",
    "\n",
    "pointIcon24h = \"icons/fire24.png\"\n",
    "pointIcon48h = \"icons/fire48.png\"\n",
    "pointIcon7d = \"icons/fire7d.png\"\n",
    "\n",
    "\n",
    "for loc24h, pop24h in zip(locations24h, get_popup(pt24hclip)):\n",
    "    folium.Marker(loc24h,\n",
    "                  icon=folium.features.CustomIcon(pointIcon24h, icon_size=(40, 40)),\n",
    "                  popup=pop24h\n",
    "                 ).add_to(cluster24h)\n",
    "    \n",
    "for loc48h, pop48h in zip(locations48h, get_popup(pt48hclip)):\n",
    "    folium.Marker(loc48h,\n",
    "                  icon=folium.features.CustomIcon(pointIcon48h, icon_size=(40, 40)),\n",
    "                  popup=pop48h               \n",
    "              ).add_to(cluster48h)\n",
    "    \n",
    "for loc7d, pop7d in zip(locations7d, get_popup(pt7dclip)):\n",
    "    folium.Marker(loc7d,\n",
    "                  icon=folium.features.CustomIcon(pointIcon7d, icon_size=(40, 40)),\n",
    "                  popup=pop7d\n",
    "              ).add_to(cluster7d)\n",
    "\n",
    "folium.LayerControl(collapsed=False).add_to(map)\n",
    "\n",
    "text = 'VIIRS Active Fires in '\n",
    "date = str(localtime.tm_year)+'/'+str(localtime.tm_mon)+'/'+str(localtime.tm_mday)\n",
    "title_html = '''\n",
    "             <h3 align=\"center\" style=\"font-size:16px\"><b>{}</b></h3>\n",
    "             '''.format(text + w.value + ' ' + 'on' + ' ' + date)   \n",
    "map.get_root().html.add_child(folium.Element(title_html))"
   ]
  },
  {
   "cell_type": "code",
   "execution_count": 23,
   "metadata": {},
   "outputs": [],
   "source": [
    "map_html.legend(map)"
   ]
  },
  {
   "cell_type": "code",
   "execution_count": 24,
   "metadata": {
    "scrolled": false
   },
   "outputs": [],
   "source": [
    "map"
   ]
  },
  {
   "cell_type": "code",
   "execution_count": null,
   "metadata": {},
   "outputs": [],
   "source": []
  }
 ],
 "metadata": {
  "kernelspec": {
   "display_name": "Python 3",
   "language": "python",
   "name": "python3"
  },
  "language_info": {
   "codemirror_mode": {
    "name": "ipython",
    "version": 3
   },
   "file_extension": ".py",
   "mimetype": "text/x-python",
   "name": "python",
   "nbconvert_exporter": "python",
   "pygments_lexer": "ipython3",
   "version": "3.7.6"
  }
 },
 "nbformat": 4,
 "nbformat_minor": 4
}
