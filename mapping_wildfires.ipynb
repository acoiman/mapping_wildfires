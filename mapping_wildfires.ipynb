{
 "cells": [
  {
   "cell_type": "code",
   "execution_count": 11,
   "metadata": {},
   "outputs": [
    {
     "data": {
      "application/vnd.jupyter.widget-view+json": {
       "model_id": "e41dafb1db884779935e2edeb4eefa72",
       "version_major": 2,
       "version_minor": 0
      },
      "text/plain": [
       "Dropdown(index=170, options=('Afghanistan', 'Albania', 'Algeria', 'Angola', 'Antarctica', 'Argentina', 'Armeni…"
      ]
     },
     "metadata": {},
     "output_type": "display_data"
    },
    {
     "data": {
      "application/vnd.jupyter.widget-view+json": {
       "model_id": "2ec089dbb2e749369c7272a53f83dae6",
       "version_major": 2,
       "version_minor": 0
      },
      "text/plain": [
       "Button(description='Run All Cells ', style=ButtonStyle())"
      ]
     },
     "metadata": {},
     "output_type": "display_data"
    },
    {
     "data": {
      "application/javascript": [
       "IPython.notebook.execute_cell_range(IPython.notebook.get_selected_index()+1,    IPython.notebook.ncells())"
      ],
      "text/plain": [
       "<IPython.core.display.Javascript object>"
      ]
     },
     "metadata": {},
     "output_type": "display_data"
    }
   ],
   "source": [
    "import geopandas as gpd\n",
    "import ipywidgets as widgets\n",
    "from IPython.display import display\n",
    "from IPython.display import Javascript\n",
    "\n",
    "world = gpd.read_file(gpd.datasets.get_path('naturalearth_lowres'))\n",
    "# countries = world.loc[world['continent'] == 'South America', 'name']\n",
    "countries =world['name'].sort_values()\n",
    "\n",
    "w = widgets.Dropdown(\n",
    "    options= countries,\n",
    "    value='Venezuela'\n",
    ")\n",
    "\n",
    "Javascript('IPython.notebook.execute_cells_below()')\n",
    "\n",
    "def run_all(ev):\n",
    "    display(Javascript('IPython.notebook.execute_cell_range(IPython.notebook.get_selected_index()+1,\\\n",
    "    IPython.notebook.ncells())'))\n",
    "\n",
    "button = widgets.Button(description=\"Run All Cells \")\n",
    "button.on_click(run_all)\n",
    "\n",
    "display(w)\n",
    "display(button)"
   ]
  },
  {
   "cell_type": "code",
   "execution_count": 71,
   "metadata": {},
   "outputs": [
    {
     "data": {
      "text/plain": [
       "'United States of America'"
      ]
     },
     "execution_count": 71,
     "metadata": {},
     "output_type": "execute_result"
    }
   ],
   "source": [
    "w.value"
   ]
  },
  {
   "cell_type": "code",
   "execution_count": 13,
   "metadata": {},
   "outputs": [
    {
     "name": "stderr",
     "output_type": "stream",
     "text": [
      "/srv/conda/envs/notebook/lib/python3.7/site-packages/ipykernel_launcher.py:8: DeprecationWarning: Using Nominatim with the default \"geopy/1.22.0\" `user_agent` is strongly discouraged, as it violates Nominatim's ToS https://operations.osmfoundation.org/policies/nominatim/ and may possibly cause 403 and 429 HTTP errors. Please specify a custom `user_agent` with `Nominatim(user_agent=\"my-application\")` or by overriding the default `user_agent`: `geopy.geocoders.options.default_user_agent = \"my-application\"`. In geopy 2.0 this will become an exception.\n",
      "  \n"
     ]
    }
   ],
   "source": [
    "import os\n",
    "import zipfile\n",
    "import requests\n",
    "import time\n",
    "#import shapefile\n",
    "\n",
    "from geopy.geocoders import Nominatim\n",
    "geolocator = Nominatim()\n",
    "\n",
    "\n",
    "import folium\n",
    "from folium.plugins import MarkerCluster\n",
    "from folium.plugins import FastMarkerCluster\n",
    "\n",
    "# custom modules\n",
    "import map_html\n",
    "import cal_zoom\n",
    "from cal_zoom import get_zoom_start\n",
    "\n",
    "import warnings\n",
    "warnings.filterwarnings('ignore')"
   ]
  },
  {
   "cell_type": "code",
   "execution_count": 14,
   "metadata": {},
   "outputs": [],
   "source": [
    "def make_folder_name(localtime):\n",
    "    if localtime.tm_hour > 12:\n",
    "        string = str(localtime.tm_mon)+'_'+str(localtime.tm_mday)+'_'+\\\n",
    "        str(localtime.tm_hour-12)+'_'+str(localtime.tm_min)+'_pm'\n",
    "    else:\n",
    "        string =str(localtime.tm_mon)+'_'+str(localtime.tm_mday)+'_'+\\\n",
    "        str(localtime.tm_hour)+'_'+str(localtime.tm_min)+'_am'\n",
    "    return string"
   ]
  },
  {
   "cell_type": "code",
   "execution_count": 15,
   "metadata": {},
   "outputs": [],
   "source": [
    "# names of the datasets an their respective links\n",
    "names = ['24hrVIIRS375m ','48hrVIIRS375m ','7dVIIRS375m ']"
   ]
  },
  {
   "cell_type": "code",
   "execution_count": 16,
   "metadata": {},
   "outputs": [],
   "source": [
    "links = ['https://firms.modaps.eosdis.nasa.gov/data/active_fire/noaa-20-viirs-c2/shapes/zips/J1_VIIRS_C2_Global_24h.zip',\\\n",
    "        'https://firms.modaps.eosdis.nasa.gov/data/active_fire/noaa-20-viirs-c2/shapes/zips/J1_VIIRS_C2_Global_48h.zip',\\\n",
    "        'https://firms.modaps.eosdis.nasa.gov/data/active_fire/noaa-20-viirs-c2/shapes/zips/J1_VIIRS_C2_Global_7d.zip']\n",
    "\n",
    "# links = ['https://firms.modaps.eosdis.nasa.gov/data/active_fire/noaa-20-viirs-c2/shapes/zips/J1_VIIRS_C2_South_America_24h.zip',\\\n",
    "#         'https://firms.modaps.eosdis.nasa.gov/data/active_fire/noaa-20-viirs-c2/shapes/zips/J1_VIIRS_C2_South_America_48h.zip',\\\n",
    "#         'https://firms.modaps.eosdis.nasa.gov/data/active_fire/noaa-20-viirs-c2/shapes/zips/J1_VIIRS_C2_South_America_7d.zip']"
   ]
  },
  {
   "cell_type": "code",
   "execution_count": 17,
   "metadata": {},
   "outputs": [],
   "source": [
    "folder_names = []\n",
    "localtime = time.localtime(time.time())"
   ]
  },
  {
   "cell_type": "code",
   "execution_count": 18,
   "metadata": {},
   "outputs": [],
   "source": [
    "# save the data into the right spot\n",
    "# go through each and link\n",
    "for i, name_Link in enumerate(zip(names, links)):\n",
    "    # download the file content in binary format\n",
    "    r = requests.get(name_Link[1])\n",
    "    \n",
    "    # open method to open a file on your system and write the contents\n",
    "    with open(name_Link[0], \"wb\") as code:\n",
    "        code.write(r.content)\n",
    "    # Unzip the data\n",
    "    zip_ref = zipfile.ZipFile(name_Link[0], 'r')\n",
    "    name = make_folder_name(localtime)+'_'+name_Link[0]\n",
    "    folder_names.append(name)\n",
    "    zip_ref.extractall(name)\n",
    "    zip_ref.close()"
   ]
  },
  {
   "cell_type": "code",
   "execution_count": 19,
   "metadata": {},
   "outputs": [],
   "source": [
    "# world = gpd.read_file(gpd.datasets.get_path('naturalearth_lowres'))\n",
    "# sa = world.loc[world['continent'] == 'South America', 'name']"
   ]
  },
  {
   "cell_type": "code",
   "execution_count": 20,
   "metadata": {},
   "outputs": [],
   "source": [
    "# import ipywidgets as widgets\n",
    "# from IPython.display import display"
   ]
  },
  {
   "cell_type": "code",
   "execution_count": 21,
   "metadata": {},
   "outputs": [],
   "source": [
    "# w = widgets.Dropdown(\n",
    "#     options= sa,\n",
    "#     value='Venezuela'\n",
    "# )\n",
    "\n",
    "# # def on_change(change):\n",
    "# #     if change['type'] == 'change' and change['name'] == 'value':\n",
    "# #         print (\"changed to %s\" % change['new'])\n",
    "\n",
    "# # w.observe(on_change)\n",
    "\n",
    "# display(w)"
   ]
  },
  {
   "cell_type": "code",
   "execution_count": 22,
   "metadata": {},
   "outputs": [],
   "source": [
    "# w.value"
   ]
  },
  {
   "cell_type": "code",
   "execution_count": 23,
   "metadata": {},
   "outputs": [],
   "source": [
    "# from IPython.display import Javascript\n",
    "# Javascript('IPython.notebook.execute_cells_below()')\n",
    "\n",
    "# def run_all(ev):\n",
    "#     display(Javascript('IPython.notebook.execute_cells_below()'))\n",
    "\n",
    "# button = widgets.Button(description=\"Create next input\")\n",
    "# button.on_click(run_all)\n",
    "# display(button)"
   ]
  },
  {
   "cell_type": "code",
   "execution_count": 72,
   "metadata": {},
   "outputs": [
    {
     "data": {
      "text/plain": [
       "<matplotlib.axes._subplots.AxesSubplot at 0x7fab0ba367d0>"
      ]
     },
     "execution_count": 72,
     "metadata": {},
     "output_type": "execute_result"
    },
    {
     "data": {
      "image/png": "[encoded data removed]",
      "text/plain": [
       "<Figure size 432x288 with 1 Axes>"
      ]
     },
     "metadata": {
      "needs_background": "light"
     },
     "output_type": "display_data"
    }
   ],
   "source": [
    "study_area = world[world['name'] == w.value]\n",
    "study_area.plot()"
   ]
  },
  {
   "cell_type": "code",
   "execution_count": 25,
   "metadata": {},
   "outputs": [],
   "source": [
    "dir_name_24h = folder_names[0]\n",
    "filename_24h = 'J1_VIIRS_C2_Global_24h.shp'\n",
    "path_24h = os.path.join(dir_name_24h, filename_24h)"
   ]
  },
  {
   "cell_type": "code",
   "execution_count": 26,
   "metadata": {},
   "outputs": [],
   "source": [
    "dir_name_48h = folder_names[1]\n",
    "filename_48h = 'J1_VIIRS_C2_Global_48h.shp'\n",
    "path_48h = os.path.join(dir_name_48h, filename_48h)"
   ]
  },
  {
   "cell_type": "code",
   "execution_count": 27,
   "metadata": {},
   "outputs": [],
   "source": [
    "dir_name_7d = folder_names[2]\n",
    "filename_7d = 'J1_VIIRS_C2_Global_7d.shp'\n",
    "path_7d = os.path.join(dir_name_7d, filename_7d)"
   ]
  },
  {
   "cell_type": "code",
   "execution_count": 44,
   "metadata": {},
   "outputs": [],
   "source": [
    "def clip_data(path):\n",
    "    ptall = gpd.read_file(path)\n",
    "    \n",
    "    ptclip = gpd.clip(ptall, study_area)\n",
    "    \n",
    "    return ptclip"
   ]
  },
  {
   "cell_type": "code",
   "execution_count": 73,
   "metadata": {},
   "outputs": [],
   "source": [
    "pt24hclip = clip_data(path_24h)\n",
    "\n",
    "pt48hclip = clip_data(path_48h)\n",
    "\n",
    "pt7dclip = clip_data(path_7d)"
   ]
  },
  {
   "cell_type": "code",
   "execution_count": 74,
   "metadata": {},
   "outputs": [
    {
     "data": {
      "text/plain": [
       "<matplotlib.axes._subplots.AxesSubplot at 0x7fab1395c650>"
      ]
     },
     "execution_count": 74,
     "metadata": {},
     "output_type": "execute_result"
    },
    {
     "data": {
      "image/png": "[encoded data removed]",
      "text/plain": [
       "<Figure size 432x288 with 1 Axes>"
      ]
     },
     "metadata": {
      "needs_background": "light"
     },
     "output_type": "display_data"
    }
   ],
   "source": [
    "pt7dclip.plot()"
   ]
  },
  {
   "cell_type": "code",
   "execution_count": 75,
   "metadata": {},
   "outputs": [],
   "source": [
    "def get_locations(pts):\n",
    "    lats = pts['LATITUDE'].tolist()\n",
    "    \n",
    "    lons = pts['LONGITUDE'].tolist()\n",
    "    \n",
    "    locs = list(zip(lats, lons))\n",
    "    \n",
    "    return locs"
   ]
  },
  {
   "cell_type": "code",
   "execution_count": 76,
   "metadata": {},
   "outputs": [
    {
     "data": {
      "text/plain": [
       "Index(['LATITUDE', 'LONGITUDE', 'BRIGHT_TI4', 'SCAN', 'TRACK', 'ACQ_DATE',\n",
       "       'ACQ_TIME', 'SATELLITE', 'CONFIDENCE', 'VERSION', 'BRIGHT_TI5', 'FRP',\n",
       "       'DAYNIGHT', 'geometry'],\n",
       "      dtype='object')"
      ]
     },
     "execution_count": 76,
     "metadata": {},
     "output_type": "execute_result"
    }
   ],
   "source": [
    "pt7dclip.columns"
   ]
  },
  {
   "cell_type": "code",
   "execution_count": 77,
   "metadata": {},
   "outputs": [],
   "source": [
    "locations24h = get_locations(pt24hclip)\n",
    "\n",
    "locations48h = get_locations(pt48hclip)\n",
    "\n",
    "locations7d = get_locations(pt7dclip)"
   ]
  },
  {
   "cell_type": "code",
   "execution_count": 78,
   "metadata": {},
   "outputs": [],
   "source": [
    "def get_popup(df):\n",
    "    '''\n",
    "    Function to get map popup data\n",
    "    '''\n",
    "    \n",
    "    bt4 = df['BRIGHT_TI4'].tolist()\n",
    "    acd = df['ACQ_DATE'].tolist()\n",
    "    act = df['ACQ_TIME'].tolist()\n",
    "    con = df['CONFIDENCE'].tolist()\n",
    "    bt5 = df['BRIGHT_TI5'].tolist()\n",
    "    frp = df['FRP'].tolist()\n",
    "    dynt = df['DAYNIGHT']\n",
    "    \n",
    "    poplist = list(zip(bt4, acd, act, con, bt5, frp, dynt))\n",
    "    popup = ['Brightness temperature I-4 (Kelvin): {}<br>Acquisition Date: {}<br>Acquisition Time: {}\\\n",
    "    <br> Confidence: {}<br>Brightness temperature I-5 (Kelvin): {}<br>Fire Radiative Power (megawatts): {}\\\n",
    "    <br>Day(D) or Night(N): {}'\n",
    "             .format(b4, ad, at, co, b5, fr, dn) for (b4, ad, at, co, b5, fr, dn) in poplist]\n",
    "    return popup"
   ]
  },
  {
   "cell_type": "code",
   "execution_count": 79,
   "metadata": {},
   "outputs": [],
   "source": [
    "centx= study_area['geometry'].centroid.x.tolist()\n",
    "centy= study_area['geometry'].centroid.y.tolist()\n",
    "location = [*centy, *centx]"
   ]
  },
  {
   "cell_type": "code",
   "execution_count": 80,
   "metadata": {},
   "outputs": [
    {
     "data": {
      "text/plain": [
       "[45.70562800215178, -112.5994359115045]"
      ]
     },
     "execution_count": 80,
     "metadata": {},
     "output_type": "execute_result"
    }
   ],
   "source": [
    "location"
   ]
  },
  {
   "cell_type": "code",
   "execution_count": 81,
   "metadata": {},
   "outputs": [
    {
     "data": {
      "text/plain": [
       "[-171.79111060289122, 18.91619, -66.96465999999998, 71.35776357694175]"
      ]
     },
     "execution_count": 81,
     "metadata": {},
     "output_type": "execute_result"
    }
   ],
   "source": [
    "bboxsa = study_area.geometry.bounds.values.tolist()\n",
    "bbox = [item for sublist in bboxsa for item in sublist]\n",
    "bbox"
   ]
  },
  {
   "cell_type": "code",
   "execution_count": 82,
   "metadata": {},
   "outputs": [
    {
     "data": {
      "text/plain": [
       "<branca.element.Element at 0x7fabb1266950>"
      ]
     },
     "execution_count": 82,
     "metadata": {},
     "output_type": "execute_result"
    }
   ],
   "source": [
    "# map = folium.Map(location, zoom_start=6, tiles=False,control_scale=True)\n",
    "map = folium.Map(location, zoom_start=get_zoom_start(bbox), tiles=False,control_scale=True, prefer_canvas=True)\n",
    "\n",
    "\n",
    "#[6.569,-65.844]\n",
    "folium.TileLayer('CartoDB dark_matter', overlay=True).add_to(map)\n",
    "\n",
    "cluster24h = MarkerCluster(name='24hr VIIRS 375m', overlay=False).add_to(map)\n",
    "cluster48h = MarkerCluster(name='48hr VIIRS 375m', overlay=False).add_to(map)\n",
    "cluster7d = MarkerCluster(name='7d VIIRS 375m', overlay=False).add_to(map)\n",
    "\n",
    "pointIcon24h = \"icons/fire24.png\"\n",
    "pointIcon48h = \"icons/fire48.png\"\n",
    "pointIcon7d = \"icons/fire7d.png\"\n",
    "\n",
    "\n",
    "for loc24h, pop24h in zip(locations24h, get_popup(pt24hclip)):\n",
    "    folium.Marker(loc24h,\n",
    "                  icon=folium.features.CustomIcon(pointIcon24h, icon_size=(40, 40)),\n",
    "                  popup=pop24h\n",
    "                 ).add_to(cluster24h)\n",
    "    \n",
    "for loc48h, pop48h in zip(locations48h, get_popup(pt48hclip)):\n",
    "    folium.Marker(loc48h,\n",
    "                  icon=folium.features.CustomIcon(pointIcon48h, icon_size=(40, 40)),\n",
    "                  popup=pop48h               \n",
    "              ).add_to(cluster48h)\n",
    "    \n",
    "for loc7d, pop7d in zip(locations7d, get_popup(pt7dclip)):\n",
    "    folium.Marker(loc7d,\n",
    "                  icon=folium.features.CustomIcon(pointIcon7d, icon_size=(40, 40)),\n",
    "                  popup=pop7d\n",
    "              ).add_to(cluster7d)\n",
    "\n",
    "folium.LayerControl(collapsed=False).add_to(map)\n",
    "\n",
    "text = 'VIIRS Active Fires in '\n",
    "date = str(localtime.tm_year)+'/'+str(localtime.tm_mon)+'/'+str(localtime.tm_mday)\n",
    "title_html = '''\n",
    "             <h3 align=\"center\" style=\"font-size:16px\"><b>{}</b></h3>\n",
    "             '''.format(text + w.value + ' ' + 'on' + ' ' + date)   \n",
    "map.get_root().html.add_child(folium.Element(title_html))"
   ]
  },
  {
   "cell_type": "code",
   "execution_count": 83,
   "metadata": {},
   "outputs": [],
   "source": [
    "map_html.legend(map)"
   ]
  },
  {
   "cell_type": "code",
   "execution_count": 85,
   "metadata": {
    "scrolled": false
   },
   "outputs": [],
   "source": [
    "map"
   ]
  },
  {
   "cell_type": "code",
   "execution_count": 41,
   "metadata": {},
   "outputs": [],
   "source": [
    "# # modified from: https://medium.com/@busybus/rendered-maps-with-python-ffba4b34101c\n",
    "# # License: CC0 -- no rights reserved\n",
    "\n",
    "# from math import pi, log, tan, exp, atan, log2, floor\n",
    "\n",
    "# # Convert geographical coordinates to pixels\n",
    "# # https://en.wikipedia.org/wiki/Web_Mercator_projection\n",
    "# # Note on google API:\n",
    "# # The world map is obtained with lat=lon=0, w=h=256, zoom=0\n",
    "\n",
    "# # Therefore:\n",
    "# ZOOM0_SIZE = 512\n",
    "\n",
    "# # Geo-coordinate in degrees => Pixel coordinate\n",
    "# def g2p(lat, lon, zoom):\n",
    "#     return (\n",
    "#         # x\n",
    "#         ZOOM0_SIZE * (2 ** zoom) * (1 + lon / 180) / 2,\n",
    "#         # y\n",
    "#         ZOOM0_SIZE / (2 * pi) * (2 ** zoom) * (pi - log(tan(pi / 4 * (1 + lat / 90))))\n",
    "#     )\n",
    "\n",
    "\n",
    "# # Pixel coordinate => geo-coordinate in degrees\n",
    "# def p2g(x, y, zoom):\n",
    "#     return (\n",
    "#         # lat\n",
    "#         (atan(exp(pi - y / ZOOM0_SIZE * (2 * pi) / (2 ** zoom))) / pi * 4 - 1) * 90,\n",
    "#         # lon\n",
    "#         (x / ZOOM0_SIZE * 2 / (2 ** zoom) - 1) * 180,\n",
    "#     )\n",
    "\n",
    "# def get_map_zoom(bbox):\n",
    "\n",
    "#     # The region of interest in geo-coordinates in degrees\n",
    "#     # For example, bbox = [120.2206, 22.4827, 120.4308, 22.7578]\n",
    "#     (left, bottom, right, top) = bbox\n",
    "\n",
    "#     # Sanity check\n",
    "#     assert (-90 <= bottom < top <= 90)\n",
    "#     assert (-180 <= left < right <= 180)\n",
    "\n",
    "#     # Rendered image map size in pixels as it should come from MapBox (no retina)\n",
    "#     (w, h) = (1024, 1024)\n",
    "\n",
    "#     # The center point of the region of interest\n",
    "#     (lat, lon) = ((top + bottom) / 2, (left + right) / 2)\n",
    "\n",
    "#     # Reduce precision of (lat, lon) to increase cache hits\n",
    "#     snap_to_dyadic = (lambda a, b: (lambda x, scale=(2 ** floor(log2(abs(b - a) / 4))): (round(x / scale) * scale)))\n",
    "\n",
    "#     lat = snap_to_dyadic(bottom, top)(lat)\n",
    "#     lon = snap_to_dyadic(left, right)(lon)\n",
    "\n",
    "#     assert ((bottom < lat < top) and (left < lon < right)), \"Reference point not inside the region of interest\"\n",
    "\n",
    "#     # Look for appropriate zoom level to cover the region of interest\n",
    "#     for zoom in range(16, 0, -1):\n",
    "#         # Center point in pixel coordinates at this zoom level\n",
    "#         (x0, y0) = g2p(lat, lon, zoom)\n",
    "\n",
    "#         # The \"container\" geo-region that the downloaded map would cover\n",
    "#         (TOP, LEFT) = p2g(x0 - w / 2, y0 - h / 2, zoom)\n",
    "#         (BOTTOM, RIGHT) = p2g(x0 + w / 2, y0 + h / 2, zoom)\n",
    "\n",
    "#         # Would the map cover the region of interest?\n",
    "#         if (LEFT <= left < right <= RIGHT):\n",
    "#             if (BOTTOM <= bottom < top <= TOP):\n",
    "#                 break\n",
    "#     return zoom"
   ]
  }
 ],
 "metadata": {
  "kernelspec": {
   "display_name": "Python 3",
   "language": "python",
   "name": "python3"
  },
  "language_info": {
   "codemirror_mode": {
    "name": "ipython",
    "version": 3
   },
   "file_extension": ".py",
   "mimetype": "text/x-python",
   "name": "python",
   "nbconvert_exporter": "python",
   "pygments_lexer": "ipython3",
   "version": "3.7.6"
  }
 },
 "nbformat": 4,
 "nbformat_minor": 4
}
