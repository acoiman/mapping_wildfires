{
 "cells": [
  {
   "cell_type": "code",
   "execution_count": 3,
   "metadata": {},
   "outputs": [],
   "source": [
    "import zipfile\n",
    "import requests\n",
    "import time\n",
    "import shapefile\n",
    "from geopy.geocoders import Nominatim\n",
    "geolocator = Nominatim()\n",
    "import folium\n",
    "import warnings\n",
    "import geopandas as gpd\n",
    "import os\n",
    "warnings.filterwarnings('ignore')"
   ]
  },
  {
   "cell_type": "code",
   "execution_count": 4,
   "metadata": {},
   "outputs": [],
   "source": [
    "def make_folder_name(localtime):\n",
    "    if localtime.tm_hour > 12:\n",
    "        string = str(localtime.tm_mon)+'_'+str(localtime.tm_mday)+'_'+\\\n",
    "        str(localtime.tm_hour-12)+'_'+str(localtime.tm_min)+'_pm'\n",
    "    else:\n",
    "        string =str(localtime.tm_mon)+'_'+str(localtime.tm_mday)+'_'+\\\n",
    "        str(localtime.tm_hour)+'_'+str(localtime.tm_min)+'_am'\n",
    "    return string"
   ]
  },
  {
   "cell_type": "code",
   "execution_count": 5,
   "metadata": {},
   "outputs": [],
   "source": [
    "# names of the datasets an their respective links\n",
    "names = ['24hrVIIRS375m ','48hrVIIRS375m ','7dVIIRS375m ']"
   ]
  },
  {
   "cell_type": "code",
   "execution_count": 6,
   "metadata": {},
   "outputs": [],
   "source": [
    "links = ['https://firms.modaps.eosdis.nasa.gov/data/active_fire/noaa-20-viirs-c2/shapes/zips/J1_VIIRS_C2_South_America_24h.zip',\\\n",
    "        'https://firms.modaps.eosdis.nasa.gov/data/active_fire/noaa-20-viirs-c2/shapes/zips/J1_VIIRS_C2_South_America_48h.zip',\\\n",
    "        'https://firms.modaps.eosdis.nasa.gov/data/active_fire/noaa-20-viirs-c2/shapes/zips/J1_VIIRS_C2_South_America_7d.zip']"
   ]
  },
  {
   "cell_type": "code",
   "execution_count": 7,
   "metadata": {},
   "outputs": [],
   "source": [
    "folder_names = []\n",
    "localtime = time.localtime(time.time())"
   ]
  },
  {
   "cell_type": "code",
   "execution_count": 8,
   "metadata": {},
   "outputs": [],
   "source": [
    "# save the data into the right spot\n",
    "# go through each and link\n",
    "for i, name_Link in enumerate(zip(names, links)):\n",
    "    # download the file content in binary format\n",
    "    r = requests.get(name_Link[1])\n",
    "    \n",
    "    # open method to open a file on your system and write the contents\n",
    "    with open(name_Link[0], \"wb\") as code:\n",
    "        code.write(r.content)\n",
    "    # Unzip the data\n",
    "    zip_ref = zipfile.ZipFile(name_Link[0], 'r')\n",
    "    name = make_folder_name(localtime)+'_'+name_Link[0]\n",
    "    folder_names.append(name)\n",
    "    zip_ref.extractall(name)\n",
    "    zip_ref.close()"
   ]
  },
  {
   "cell_type": "code",
   "execution_count": 9,
   "metadata": {},
   "outputs": [],
   "source": [
    "world = gpd.read_file(gpd.datasets.get_path('naturalearth_lowres'))\n",
    "study_area = world[world['name'] == 'Venezuela']"
   ]
  },
  {
   "cell_type": "code",
   "execution_count": 10,
   "metadata": {},
   "outputs": [],
   "source": [
    "dir_name = folder_names[0]\n",
    "filename = 'J1_VIIRS_C2_South_America_24h.shp'\n",
    "path = os.path.join(dir_name, filename)"
   ]
  },
  {
   "cell_type": "code",
   "execution_count": 11,
   "metadata": {},
   "outputs": [
    {
     "data": {
      "text/plain": [
       "'5_17_1_11_pm_24hrVIIRS375m /J1_VIIRS_C2_South_America_24h.shp'"
      ]
     },
     "execution_count": 11,
     "metadata": {},
     "output_type": "execute_result"
    }
   ],
   "source": [
    "path"
   ]
  },
  {
   "cell_type": "code",
   "execution_count": 17,
   "metadata": {},
   "outputs": [],
   "source": [
    "pt24all = gpd.read_file(path)"
   ]
  },
  {
   "cell_type": "code",
   "execution_count": 22,
   "metadata": {},
   "outputs": [],
   "source": [
    "pt24clip = gpd.sjoin(pt24all, study_area, op='within')"
   ]
  }
 ],
 "metadata": {
  "kernelspec": {
   "display_name": "Python 3",
   "language": "python",
   "name": "python3"
  },
  "language_info": {
   "codemirror_mode": {
    "name": "ipython",
    "version": 3
   },
   "file_extension": ".py",
   "mimetype": "text/x-python",
   "name": "python",
   "nbconvert_exporter": "python",
   "pygments_lexer": "ipython3",
   "version": "3.7.6"
  }
 },
 "nbformat": 4,
 "nbformat_minor": 4
}
